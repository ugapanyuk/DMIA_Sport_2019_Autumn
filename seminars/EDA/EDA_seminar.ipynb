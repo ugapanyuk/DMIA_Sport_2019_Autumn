version https://git-lfs.github.com/spec/v1
oid sha256:8cc2038b40d0bf37ba47467f93b9e700dc2adcb1208b3d5c7ae92f957e766dc0
size 12210
