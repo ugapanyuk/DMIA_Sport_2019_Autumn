version https://git-lfs.github.com/spec/v1
oid sha256:12c7dec370c6a33c687d859afe9135c95fbd96b8cb8ca84908a5a3a7aef1411c
size 1203209
