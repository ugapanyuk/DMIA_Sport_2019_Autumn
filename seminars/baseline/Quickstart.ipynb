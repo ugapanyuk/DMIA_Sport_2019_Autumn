version https://git-lfs.github.com/spec/v1
oid sha256:35795bcad4f9ced4a033b9cd4c68b6c02651f221ace35d9ec71dff1b124fcb77
size 8122
