version https://git-lfs.github.com/spec/v1
oid sha256:d6b6410685b6209844756e09882a26664e83f62d2fd4c54612735e4c8048b5c9
size 142567
