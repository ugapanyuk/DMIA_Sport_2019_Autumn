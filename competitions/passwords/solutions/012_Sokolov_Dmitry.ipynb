version https://git-lfs.github.com/spec/v1
oid sha256:1b8bee08b3175838f73909215833a871106b2d2b84f8e7e0bf250c88dd5a1f58
size 28958
