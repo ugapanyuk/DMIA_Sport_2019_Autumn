version https://git-lfs.github.com/spec/v1
oid sha256:c6d5644dd2ad670ab691b89946f493900fd446180768584170fced7cbca2e6bf
size 22075
