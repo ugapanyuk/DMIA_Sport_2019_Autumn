version https://git-lfs.github.com/spec/v1
oid sha256:4278f01a6c873bb891093e3ee51620192426f6e5ca02896edc891232462d87f5
size 34528
