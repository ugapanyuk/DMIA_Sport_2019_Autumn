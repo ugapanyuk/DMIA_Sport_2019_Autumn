version https://git-lfs.github.com/spec/v1
oid sha256:2aaafa6bd2883bebf1fa9eb73cecb9a7768168da3edbdea7f9f0951c6ee56d69
size 75042
