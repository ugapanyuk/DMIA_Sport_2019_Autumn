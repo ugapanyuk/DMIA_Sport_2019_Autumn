version https://git-lfs.github.com/spec/v1
oid sha256:689a02fd93f04e7af904cb3f6d180beb69b9fab4a8fdc6d9b57037b4e065642d
size 22838
