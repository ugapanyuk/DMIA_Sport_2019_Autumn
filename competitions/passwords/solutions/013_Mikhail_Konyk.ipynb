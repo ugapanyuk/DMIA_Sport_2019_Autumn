version https://git-lfs.github.com/spec/v1
oid sha256:c84cb73abfb617993912ef64b66092da0efd5362f708fe1454faee8ba9a50368
size 150702
