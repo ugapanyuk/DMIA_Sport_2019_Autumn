version https://git-lfs.github.com/spec/v1
oid sha256:0520a2fd41ed6a9ec73fa39a76879f12b25c1007556aa73edc754126ffe17869
size 20892
